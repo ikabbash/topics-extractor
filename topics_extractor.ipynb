{
 "cells": [
  {
   "cell_type": "markdown",
   "metadata": {},
   "source": [
    "# Topics Extractor\n",
    "A proof of concept on extracting topics using Langchain"
   ]
  },
  {
   "cell_type": "code",
   "execution_count": 1,
   "metadata": {},
   "outputs": [],
   "source": [
    "import os\n",
    "from pathlib import Path\n",
    "from dotenv import load_dotenv\n",
    "from langchain_google_genai import GoogleGenerativeAI\n",
    "from langchain_core.messages import HumanMessage, SystemMessage\n",
    "from langchain.output_parsers import CommaSeparatedListOutputParser\n",
    "from langchain.prompts.chat import (\n",
    "    ChatPromptTemplate,\n",
    "    SystemMessagePromptTemplate,\n",
    "    HumanMessagePromptTemplate\n",
    ")"
   ]
  },
  {
   "cell_type": "markdown",
   "metadata": {},
   "source": [
    "Create a `.env` file and add your Gemini API key using `GOOGLE_API_KEY`"
   ]
  },
  {
   "cell_type": "code",
   "execution_count": 2,
   "metadata": {},
   "outputs": [],
   "source": [
    "load_dotenv()\n",
    "llm = GoogleGenerativeAI(model=\"gemini-pro\")"
   ]
  },
  {
   "cell_type": "markdown",
   "metadata": {},
   "source": [
    "The system template that instructs the LLM on how to process the input and respond which will be added into the prompt"
   ]
  },
  {
   "cell_type": "code",
   "execution_count": 3,
   "metadata": {},
   "outputs": [],
   "source": [
    "sys_template = \"\"\"\n",
    "You are an assistant that is mainly responsible for retrieving topics talked about in a video transcript. You only do topic modeling.\n",
    "- Respond only with the topics, separated by commas.\n",
    "- Categories of a transcript include:\n",
    "    - Trends: Current developments or shifts in various fields.\n",
    "    - Industries: Specific sectors such as technology, healthcare, finance, etc.\n",
    "    - Themes: Subjects or ideas presented in the content.\n",
    "    - Business Ideas: Innovative concepts or strategies for entrepreneurship.\n",
    "    - Highlights: Key points or significant takeaways from the transcript.\n",
    "    - Innovations: New technologies or methods impacting a field.\n",
    "    - Subjects: Key components that are implied rather than stated.\n",
    "    - Opportunities: Potential areas for growth or exploration.\n",
    "- You can use the words and terminologies that are mentioned in the transcript.\n",
    "- You can define categories and functions as topics.\n",
    "- Only pull topics from the transcript. Do not use the examples.\n",
    "- Only add most accurate topics in descending order.\n",
    "- Only return up to 3 topics.\n",
    "- Do not respond with irrelevant topics to the transcript.\n",
    "- Do not include any other characters, like hyphens or numbers.\n",
    "\n",
    "% START OF EXAMPLES\n",
    "    - Tech\n",
    "    - Social media\n",
    "    - Gaming\n",
    "    - Cybersecurity\n",
    "    - Virtual machines\n",
    "    - Cloud computing\n",
    "    - Weight lifting\n",
    "    - Calisthenics\n",
    "    - Cuisines\n",
    "    - Interview tips\n",
    "    - Life hacks\n",
    "    - Marketing Strategies\n",
    "    - Health trends\n",
    "    - Sports\n",
    "% END OF EXAMPLES\n",
    "\"\"\"\n",
    "system_message_prompt_map = SystemMessagePromptTemplate.from_template(sys_template)"
   ]
  },
  {
   "cell_type": "markdown",
   "metadata": {},
   "source": [
    "The data that'll be used as inputs. Each text file's content is stored in the `transcripts` list (array)"
   ]
  },
  {
   "cell_type": "code",
   "execution_count": null,
   "metadata": {},
   "outputs": [],
   "source": [
    "transcripts = [Path(f\"data/transcript-{num}.txt\").read_text() for num in range(1, 4)]"
   ]
  },
  {
   "cell_type": "markdown",
   "metadata": {},
   "source": [
    "Prompt template used to format human-like inputs"
   ]
  },
  {
   "cell_type": "code",
   "execution_count": 5,
   "metadata": {},
   "outputs": [],
   "source": [
    "human_template=\"Transcript: {input}\"\n",
    "human_message_prompt_map = HumanMessagePromptTemplate.from_template(human_template)"
   ]
  },
  {
   "cell_type": "markdown",
   "metadata": {},
   "source": [
    "Combine `system_message_prompt_map` and `human_message_prompt_map` into a single conversational flow using `ChatPromptTemplate`"
   ]
  },
  {
   "cell_type": "code",
   "execution_count": 6,
   "metadata": {},
   "outputs": [],
   "source": [
    "chat_prompt = ChatPromptTemplate.from_messages(messages=[system_message_prompt_map, human_message_prompt_map])"
   ]
  },
  {
   "cell_type": "markdown",
   "metadata": {},
   "source": [
    "Parse the output to make sure you receive a list (array)"
   ]
  },
  {
   "cell_type": "code",
   "execution_count": 7,
   "metadata": {},
   "outputs": [],
   "source": [
    "output_parser = CommaSeparatedListOutputParser()"
   ]
  },
  {
   "cell_type": "markdown",
   "metadata": {},
   "source": [
    "Chain them all together "
   ]
  },
  {
   "cell_type": "code",
   "execution_count": 8,
   "metadata": {},
   "outputs": [],
   "source": [
    "chain = chat_prompt | llm | output_parser"
   ]
  },
  {
   "cell_type": "markdown",
   "metadata": {},
   "source": [
    "Invoke the chain using the first file as an input"
   ]
  },
  {
   "cell_type": "code",
   "execution_count": 9,
   "metadata": {},
   "outputs": [
    {
     "name": "stdout",
     "output_type": "stream",
     "text": [
      "['Art', 'Gaming', 'Hardware']\n"
     ]
    }
   ],
   "source": [
    "response = chain.invoke({\"input\": transcripts[0]})\n",
    "print(response)"
   ]
  },
  {
   "cell_type": "markdown",
   "metadata": {},
   "source": [
    "Check the type of the output"
   ]
  },
  {
   "cell_type": "code",
   "execution_count": 10,
   "metadata": {},
   "outputs": [
    {
     "name": "stdout",
     "output_type": "stream",
     "text": [
      "<class 'list'>\n"
     ]
    }
   ],
   "source": [
    "print(type(response))"
   ]
  },
  {
   "cell_type": "markdown",
   "metadata": {},
   "source": [
    "Invoke the chain with the other two files"
   ]
  },
  {
   "cell_type": "code",
   "execution_count": 11,
   "metadata": {},
   "outputs": [
    {
     "name": "stdout",
     "output_type": "stream",
     "text": [
      "['Exercises', 'Health', 'Fitness']\n"
     ]
    }
   ],
   "source": [
    "response = chain.invoke({\"input\": transcripts[1]})\n",
    "print(response)"
   ]
  },
  {
   "cell_type": "code",
   "execution_count": 12,
   "metadata": {},
   "outputs": [
    {
     "name": "stdout",
     "output_type": "stream",
     "text": [
      "['Salary Negotiation', 'Career', 'Employment']\n"
     ]
    }
   ],
   "source": [
    "response = chain.invoke({\"input\": transcripts[2]})\n",
    "print(response)"
   ]
  }
 ],
 "metadata": {
  "kernelspec": {
   "display_name": "venv",
   "language": "python",
   "name": "python3"
  },
  "language_info": {
   "codemirror_mode": {
    "name": "ipython",
    "version": 3
   },
   "file_extension": ".py",
   "mimetype": "text/x-python",
   "name": "python",
   "nbconvert_exporter": "python",
   "pygments_lexer": "ipython3",
   "version": "3.12.7"
  }
 },
 "nbformat": 4,
 "nbformat_minor": 2
}
